{
 "cells": [
  {
   "cell_type": "markdown",
   "id": "6c09aab6",
   "metadata": {},
   "source": [
    "# SELF-ATTENTION"
   ]
  },
  {
   "cell_type": "markdown",
   "id": "cdac3385",
   "metadata": {},
   "source": [
    "## Self Attention\n",
    "\n",
    "$$\n",
    "\\text{self attention} = softmax\\bigg(\\frac{Q.K^T}{\\sqrt{d_k}}+M\\bigg)\n",
    "$$\n",
    "\n",
    "$$\n",
    "\\text{new V} = \\text{self attention}.V\n",
    "$$ "
   ]
  },
  {
   "cell_type": "code",
   "execution_count": 1,
   "id": "de47595c",
   "metadata": {},
   "outputs": [],
   "source": [
    "import numpy as np\n",
    "L,d_k,d_v=4,8,8 \n",
    "# L is length of sentence = \"My name is Akshata\" =4\n",
    "# set dimension to a random value here 8"
   ]
  },
  {
   "cell_type": "code",
   "execution_count": 2,
   "id": "1048fae6",
   "metadata": {},
   "outputs": [],
   "source": [
    "q=np.random.randn(L,d_k)\n",
    "k=np.random.randn(L,d_k)\n",
    "v=np.random.randn(L,d_v)\n",
    "\n",
    "#generate q,k,v, vectors using random np arrays"
   ]
  },
  {
   "cell_type": "code",
   "execution_count": 3,
   "id": "1bcf6747",
   "metadata": {},
   "outputs": [
    {
     "name": "stdout",
     "output_type": "stream",
     "text": [
      "v\n",
      " [[-1.45501613  1.12104651  0.1601064  -0.64056377 -1.44402873  0.79275413\n",
      "   1.72701777 -0.18697646]\n",
      " [-0.0090312  -0.85755707  0.25167518 -1.44080247 -0.88817109  0.61161258\n",
      "   0.17531728  0.1869186 ]\n",
      " [-0.28668059 -0.42184698 -2.36067457 -2.42037027  0.90825863  0.39698552\n",
      "  -0.43702076  0.41276585]\n",
      " [-1.38236774 -1.53473945  0.76468046 -1.05179959  1.63642933 -0.06838755\n",
      "   0.58329393  0.53298586]]\n"
     ]
    }
   ],
   "source": [
    "print(\"v\\n\",v)"
   ]
  },
  {
   "cell_type": "code",
   "execution_count": 4,
   "id": "a7ad4bab",
   "metadata": {},
   "outputs": [
    {
     "data": {
      "text/plain": [
       "array([[ 0.50996634,  0.78673348,  1.64510885,  3.10856557],\n",
       "       [ 3.98074989,  0.75993506,  2.19098897, -1.59813831],\n",
       "       [-0.85928699,  0.33467945,  0.91460177, -0.428045  ],\n",
       "       [ 0.63647349,  4.17020268,  1.08279774,  7.43765164]])"
      ]
     },
     "execution_count": 4,
     "metadata": {},
     "output_type": "execute_result"
    }
   ],
   "source": [
    "np.matmul(q, k.T)"
   ]
  },
  {
   "cell_type": "code",
   "execution_count": 5,
   "id": "04d91aab",
   "metadata": {},
   "outputs": [
    {
     "data": {
      "text/plain": [
       "(0.990742029467248, 0.9085049295453562, 4.696035782038038)"
      ]
     },
     "execution_count": 5,
     "metadata": {},
     "output_type": "execute_result"
    }
   ],
   "source": [
    "q.var(), k.var(),  np.matmul(q, k.T).var()"
   ]
  },
  {
   "cell_type": "code",
   "execution_count": 6,
   "id": "7a9ee39c",
   "metadata": {},
   "outputs": [],
   "source": [
    "import math\n",
    "scaled=np.matmul(q, k.T)/math.sqrt(d_k)"
   ]
  },
  {
   "cell_type": "code",
   "execution_count": 7,
   "id": "367e1e49",
   "metadata": {},
   "outputs": [
    {
     "data": {
      "text/plain": [
       "0.5870044727547546"
      ]
     },
     "execution_count": 7,
     "metadata": {},
     "output_type": "execute_result"
    }
   ],
   "source": [
    "scaled.var()"
   ]
  },
  {
   "cell_type": "code",
   "execution_count": 8,
   "id": "83891a32",
   "metadata": {},
   "outputs": [],
   "source": [
    "mask=np.tril(np.ones((L,L)))"
   ]
  },
  {
   "cell_type": "code",
   "execution_count": 9,
   "id": "2d381d6e",
   "metadata": {},
   "outputs": [
    {
     "data": {
      "text/plain": [
       "array([[ 0.18030033,  0.27815229,  0.58163381,  1.0990439 ],\n",
       "       [ 1.40740762,  0.26867762,  0.77463158, -0.56502722],\n",
       "       [-0.30380383,  0.11832706,  0.32336056, -0.15133676],\n",
       "       [ 0.22502736,  1.4743893 ,  0.38282681,  2.62960696]])"
      ]
     },
     "execution_count": 9,
     "metadata": {},
     "output_type": "execute_result"
    }
   ],
   "source": [
    "scaled"
   ]
  },
  {
   "cell_type": "code",
   "execution_count": 10,
   "id": "683fd889",
   "metadata": {},
   "outputs": [
    {
     "data": {
      "text/plain": [
       "array([[1., 0., 0., 0.],\n",
       "       [1., 1., 0., 0.],\n",
       "       [1., 1., 1., 0.],\n",
       "       [1., 1., 1., 1.]])"
      ]
     },
     "execution_count": 10,
     "metadata": {},
     "output_type": "execute_result"
    }
   ],
   "source": [
    "mask"
   ]
  },
  {
   "cell_type": "code",
   "execution_count": 11,
   "id": "8c4643a3",
   "metadata": {},
   "outputs": [],
   "source": [
    "mask[mask==0]=-np.infty\n",
    "mask[mask==1]=0"
   ]
  },
  {
   "cell_type": "code",
   "execution_count": 12,
   "id": "1454e2eb",
   "metadata": {},
   "outputs": [
    {
     "data": {
      "text/plain": [
       "array([[ 0.18030033,        -inf,        -inf,        -inf],\n",
       "       [ 1.40740762,  0.26867762,        -inf,        -inf],\n",
       "       [-0.30380383,  0.11832706,  0.32336056,        -inf],\n",
       "       [ 0.22502736,  1.4743893 ,  0.38282681,  2.62960696]])"
      ]
     },
     "execution_count": 12,
     "metadata": {},
     "output_type": "execute_result"
    }
   ],
   "source": [
    "scaled+mask"
   ]
  },
  {
   "cell_type": "code",
   "execution_count": 13,
   "id": "ef3449f9",
   "metadata": {},
   "outputs": [],
   "source": [
    "def softmax(x):\n",
    "    e_x=np.exp(x)\n",
    "    return e_x/np.sum(e_x, axis=-1, keepdims=True)"
   ]
  },
  {
   "cell_type": "code",
   "execution_count": 14,
   "id": "8822e562",
   "metadata": {},
   "outputs": [
    {
     "name": "stdout",
     "output_type": "stream",
     "text": [
      "[[1.         0.         0.         0.        ]\n",
      " [0.75744639 0.24255361 0.         0.        ]\n",
      " [0.22740183 0.34683511 0.42576306 0.        ]\n",
      " [0.05976278 0.20845956 0.06997812 0.66179954]]\n"
     ]
    }
   ],
   "source": [
    "print(softmax(scaled+mask))"
   ]
  },
  {
   "cell_type": "code",
   "execution_count": 15,
   "id": "9be8ede5",
   "metadata": {},
   "outputs": [
    {
     "data": {
      "text/plain": [
       "8"
      ]
     },
     "execution_count": 15,
     "metadata": {},
     "output_type": "execute_result"
    }
   ],
   "source": [
    "q.shape[-1]"
   ]
  },
  {
   "cell_type": "code",
   "execution_count": 16,
   "id": "151b77d4",
   "metadata": {},
   "outputs": [],
   "source": [
    "def attention(q,k,v,mask=None):\n",
    "    d_k=q.shape[-1]\n",
    "    \n",
    "    scaled=np.matmul(q,k.T)/math.sqrt(d_k)\n",
    "    if mask is not None:\n",
    "        scaled=scaled+mask\n",
    "    attention=softmax(scaled)\n",
    "    out=np.matmul(attention,v)\n",
    "    \n",
    "    return out, attention"
   ]
  },
  {
   "cell_type": "code",
   "execution_count": 17,
   "id": "056493eb",
   "metadata": {},
   "outputs": [
    {
     "name": "stdout",
     "output_type": "stream",
     "text": [
      "Epoch 0: Train=0.457, Val=0.300\n",
      "Epoch 1: Train=0.647, Val=0.378\n",
      "Epoch 2: Train=0.628, Val=0.346\n",
      "Early stopping at epoch 2\n"
     ]
    }
   ],
   "source": [
    "import torch\n",
    "import random\n",
    "\n",
    "def early_stopping(train_fn, val_fn, patience=3):\n",
    "    best_val_loss = float('inf')\n",
    "    patience_counter = 0\n",
    "\n",
    "    for epoch in range(20):  # example max epochs\n",
    "        train_loss = train_fn()\n",
    "        val_loss = val_fn()\n",
    "\n",
    "        print(f\"Epoch {epoch}: Train={train_loss:.3f}, Val={val_loss:.3f}\")\n",
    "\n",
    "        if val_loss < best_val_loss:\n",
    "            best_val_loss = val_loss\n",
    "            patience_counter = 0\n",
    "        else:\n",
    "            patience_counter += 1\n",
    "            if patience_counter >= patience:\n",
    "                print(f\"Early stopping at epoch {epoch}\")\n",
    "                break\n",
    "\n",
    "# Simulated training\n",
    "def train_fn(): return random.uniform(0.3, 0.7)\n",
    "def val_fn(): return random.uniform(0.2, 0.8)\n",
    "\n",
    "early_stopping(train_fn, val_fn, patience=2)\n"
   ]
  },
  {
   "cell_type": "code",
   "execution_count": null,
   "id": "5ce5191c",
   "metadata": {},
   "outputs": [],
   "source": []
  }
 ],
 "metadata": {
  "kernelspec": {
   "display_name": "Python 3 (ipykernel)",
   "language": "python",
   "name": "python3"
  },
  "language_info": {
   "codemirror_mode": {
    "name": "ipython",
    "version": 3
   },
   "file_extension": ".py",
   "mimetype": "text/x-python",
   "name": "python",
   "nbconvert_exporter": "python",
   "pygments_lexer": "ipython3",
   "version": "3.10.12"
  }
 },
 "nbformat": 4,
 "nbformat_minor": 5
}
